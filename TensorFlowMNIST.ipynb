{
 "cells": [
  {
   "attachments": {},
   "cell_type": "markdown",
   "metadata": {},
   "source": [
    "**Import relevant packages**"
   ]
  },
  {
   "cell_type": "code",
   "execution_count": 8,
   "metadata": {},
   "outputs": [],
   "source": [
    "import numpy as np\n",
    "import tensorflow as tf\n",
    "\n",
    "import tensorflow_datasets as tfds"
   ]
  },
  {
   "cell_type": "code",
   "execution_count": 11,
   "metadata": {},
   "outputs": [
    {
     "name": "stdout",
     "output_type": "stream",
     "text": [
      "\u001b[1mDownloading and preparing dataset Unknown size (download: Unknown size, generated: Unknown size, total: Unknown size) to C:\\Users\\camil\\tensorflow_datasets\\mnist\\3.0.1...\u001b[0m\n"
     ]
    },
    {
     "name": "stderr",
     "output_type": "stream",
     "text": [
      "Dl Completed...: 0 url [00:00, ? url/s]\n",
      "Dl Completed...:   0%|          | 0/1 [00:00<?, ? url/s]\n",
      "Dl Completed...: 100%|██████████| 1/1 [00:00<?, ? url/s]\n",
      "Dl Completed...: 100%|██████████| 1/1 [00:00<00:00, 125.05 url/s]\n",
      "Dl Completed...: 100%|██████████| 1/1 [00:00<00:00, 125.05 url/s]\n",
      "Dl Completed...:  50%|█████     | 1/2 [00:00<00:00, 62.51 url/s] \n",
      "Dl Completed...: 100%|██████████| 2/2 [00:00<00:00, 61.91 url/s]\n",
      "Dl Completed...: 100%|██████████| 2/2 [00:00<00:00, 49.09 url/s]\n",
      "Dl Completed...: 100%|██████████| 2/2 [00:00<00:00, 49.09 url/s]\n",
      "Dl Completed...:  67%|██████▋   | 2/3 [00:00<00:00, 41.01 url/s]\n",
      "Dl Completed...: 100%|██████████| 3/3 [00:00<00:00, 61.52 url/s]\n",
      "Dl Completed...: 100%|██████████| 3/3 [00:00<00:00, 52.56 url/s]\n",
      "Dl Completed...: 100%|██████████| 3/3 [00:00<00:00, 46.09 url/s]\n",
      "Dl Completed...:  75%|███████▌  | 3/4 [00:00<00:00, 41.90 url/s]\n",
      "Dl Completed...: 100%|██████████| 4/4 [00:00<00:00, 54.72 url/s]\n",
      "Dl Completed...: 100%|██████████| 4/4 [00:00<00:00, 49.31 url/s]\n",
      "Dl Completed...: 100%|██████████| 4/4 [00:00<00:00, 49.31 url/s]\n",
      "Extraction completed...: 0 file [00:00, ? file/s]\n",
      "Dl Size...: 100%|██████████| 11594722/11594722 [00:00<00:00, 118679537.66 MiB/s]\n",
      "Dl Completed...: 100%|██████████| 4/4 [00:00<00:00, 40.94 url/s]\n",
      "                                                                        \r"
     ]
    },
    {
     "name": "stdout",
     "output_type": "stream",
     "text": [
      "\u001b[1mDataset mnist downloaded and prepared to C:\\Users\\camil\\tensorflow_datasets\\mnist\\3.0.1. Subsequent calls will reuse this data.\u001b[0m\n"
     ]
    }
   ],
   "source": [
    "mnist_dataset, mnist_info = tfds.load(name='mnist', with_info=True, as_supervised=True)\n",
    "\n",
    "mnist_train, mnist_test = mnist_dataset['train'], mnist_dataset['test']\n",
    "\n",
    "num_validation_samples = 0.1 * mnist_info.splits['train'].num_examples\n",
    "num_validation_samples = tf.cast(num_validation_samples, tf.int64)\n",
    "\n",
    "num_test_samples = mnist_info.splits['test'].num_examples\n",
    "num_test_samples = tf.cast(num_test_samples, tf.int64)\n",
    "\n",
    "def scale (image, label):\n",
    "    image = tf.cast(image, tf.float32)\n",
    "    image /= 255.\n",
    "    return image, label\n",
    "\n",
    "scaled_train_and_validation_data = mnist_train.map(scale)\n",
    "\n",
    "test_data = mnist_test.map(scale)\n",
    "\n",
    "BUFFER_SIZE = 10000\n",
    "\n",
    "shuffled_train_and_validation_data = scaled_train_and_validation_data.shuffle(BUFFER_SIZE)\n",
    "\n",
    "validation_data = shuffled_train_and_validation_data.take(num_validation_samples)\n",
    "train_data = shuffled_train_and_validation_data.skip(num_validation_samples)\n",
    "\n",
    "BATCH_SIZE = 100\n",
    "\n",
    "train_data = train_data.batch(BATCH_SIZE)\n",
    "validation_data = validation_data.batch(num_validation_samples)\n",
    "test_data = test_data.batch(num_test_samples)\n",
    "\n",
    "validation_inputs, validation_targets = next(iter(validation_data))"
   ]
  },
  {
   "attachments": {},
   "cell_type": "markdown",
   "metadata": {},
   "source": [
    "**Model**\n",
    "\n",
    "*Outline the model*"
   ]
  },
  {
   "cell_type": "code",
   "execution_count": 24,
   "metadata": {},
   "outputs": [],
   "source": [
    "input_size = 784\n",
    "output_size = 10\n",
    "hidden_layer_size = 100\n",
    "\n",
    "model = tf.keras.Sequential ([\n",
    "                             tf.keras.layers.Flatten(input_shape=(28,28,1)),\n",
    "                             tf.keras.layers.Dense(hidden_layer_size, activation='relu'),\n",
    "                             tf.keras.layers.Dense(hidden_layer_size, activation='relu'),\n",
    "                             tf.keras.layers.Dense(hidden_layer_size, activation='relu'),\n",
    "                             tf.keras.layers.Dense(output_size, activation='softmax')                  \n",
    "                             ])"
   ]
  },
  {
   "attachments": {},
   "cell_type": "markdown",
   "metadata": {},
   "source": [
    "**Choose the optimizer and the loss fuction**"
   ]
  },
  {
   "cell_type": "code",
   "execution_count": 25,
   "metadata": {},
   "outputs": [],
   "source": [
    "model.compile(optimizer='adam', loss='sparse_categorical_crossentropy', metrics=['accuracy'])"
   ]
  },
  {
   "attachments": {},
   "cell_type": "markdown",
   "metadata": {},
   "source": [
    "**Training**"
   ]
  },
  {
   "cell_type": "code",
   "execution_count": 26,
   "metadata": {},
   "outputs": [
    {
     "name": "stdout",
     "output_type": "stream",
     "text": [
      "Epoch 1/25\n",
      "540/540 - 3s - loss: 0.3184 - accuracy: 0.9077 - val_loss: 0.1701 - val_accuracy: 0.9487 - 3s/epoch - 5ms/step\n",
      "Epoch 2/25\n",
      "540/540 - 1s - loss: 0.1267 - accuracy: 0.9623 - val_loss: 0.1119 - val_accuracy: 0.9675 - 1s/epoch - 3ms/step\n",
      "Epoch 3/25\n",
      "540/540 - 1s - loss: 0.0883 - accuracy: 0.9731 - val_loss: 0.0890 - val_accuracy: 0.9735 - 1s/epoch - 3ms/step\n",
      "Epoch 4/25\n",
      "540/540 - 1s - loss: 0.0695 - accuracy: 0.9786 - val_loss: 0.0633 - val_accuracy: 0.9818 - 1s/epoch - 3ms/step\n",
      "Epoch 5/25\n",
      "540/540 - 2s - loss: 0.0557 - accuracy: 0.9828 - val_loss: 0.0715 - val_accuracy: 0.9757 - 2s/epoch - 3ms/step\n",
      "Epoch 6/25\n",
      "540/540 - 2s - loss: 0.0481 - accuracy: 0.9848 - val_loss: 0.0693 - val_accuracy: 0.9787 - 2s/epoch - 3ms/step\n",
      "Epoch 7/25\n",
      "540/540 - 2s - loss: 0.0372 - accuracy: 0.9881 - val_loss: 0.0447 - val_accuracy: 0.9868 - 2s/epoch - 4ms/step\n",
      "Epoch 8/25\n",
      "540/540 - 2s - loss: 0.0331 - accuracy: 0.9895 - val_loss: 0.0487 - val_accuracy: 0.9870 - 2s/epoch - 4ms/step\n",
      "Epoch 9/25\n",
      "540/540 - 2s - loss: 0.0281 - accuracy: 0.9906 - val_loss: 0.0417 - val_accuracy: 0.9865 - 2s/epoch - 4ms/step\n",
      "Epoch 10/25\n",
      "540/540 - 2s - loss: 0.0253 - accuracy: 0.9917 - val_loss: 0.0383 - val_accuracy: 0.9888 - 2s/epoch - 4ms/step\n",
      "Epoch 11/25\n",
      "540/540 - 2s - loss: 0.0231 - accuracy: 0.9924 - val_loss: 0.0252 - val_accuracy: 0.9928 - 2s/epoch - 3ms/step\n",
      "Epoch 12/25\n",
      "540/540 - 2s - loss: 0.0203 - accuracy: 0.9930 - val_loss: 0.0345 - val_accuracy: 0.9897 - 2s/epoch - 3ms/step\n",
      "Epoch 13/25\n",
      "540/540 - 2s - loss: 0.0186 - accuracy: 0.9941 - val_loss: 0.0356 - val_accuracy: 0.9897 - 2s/epoch - 3ms/step\n",
      "Epoch 14/25\n",
      "540/540 - 2s - loss: 0.0196 - accuracy: 0.9933 - val_loss: 0.0318 - val_accuracy: 0.9895 - 2s/epoch - 4ms/step\n",
      "Epoch 15/25\n",
      "540/540 - 2s - loss: 0.0141 - accuracy: 0.9954 - val_loss: 0.0333 - val_accuracy: 0.9902 - 2s/epoch - 3ms/step\n",
      "Epoch 16/25\n",
      "540/540 - 2s - loss: 0.0160 - accuracy: 0.9949 - val_loss: 0.0179 - val_accuracy: 0.9940 - 2s/epoch - 3ms/step\n",
      "Epoch 17/25\n",
      "540/540 - 2s - loss: 0.0125 - accuracy: 0.9959 - val_loss: 0.0195 - val_accuracy: 0.9948 - 2s/epoch - 3ms/step\n",
      "Epoch 18/25\n",
      "540/540 - 2s - loss: 0.0165 - accuracy: 0.9947 - val_loss: 0.0194 - val_accuracy: 0.9933 - 2s/epoch - 4ms/step\n",
      "Epoch 19/25\n",
      "540/540 - 3s - loss: 0.0128 - accuracy: 0.9956 - val_loss: 0.0149 - val_accuracy: 0.9960 - 3s/epoch - 5ms/step\n",
      "Epoch 20/25\n",
      "540/540 - 2s - loss: 0.0120 - accuracy: 0.9961 - val_loss: 0.0256 - val_accuracy: 0.9933 - 2s/epoch - 4ms/step\n",
      "Epoch 21/25\n",
      "540/540 - 2s - loss: 0.0122 - accuracy: 0.9961 - val_loss: 0.0095 - val_accuracy: 0.9972 - 2s/epoch - 4ms/step\n",
      "Epoch 22/25\n",
      "540/540 - 2s - loss: 0.0092 - accuracy: 0.9967 - val_loss: 0.0138 - val_accuracy: 0.9957 - 2s/epoch - 4ms/step\n",
      "Epoch 23/25\n",
      "540/540 - 2s - loss: 0.0096 - accuracy: 0.9968 - val_loss: 0.0073 - val_accuracy: 0.9975 - 2s/epoch - 3ms/step\n",
      "Epoch 24/25\n",
      "540/540 - 2s - loss: 0.0118 - accuracy: 0.9959 - val_loss: 0.0137 - val_accuracy: 0.9967 - 2s/epoch - 3ms/step\n",
      "Epoch 25/25\n",
      "540/540 - 2s - loss: 0.0104 - accuracy: 0.9965 - val_loss: 0.0110 - val_accuracy: 0.9955 - 2s/epoch - 3ms/step\n"
     ]
    },
    {
     "data": {
      "text/plain": [
       "<keras.callbacks.History at 0x260b50f0710>"
      ]
     },
     "execution_count": 26,
     "metadata": {},
     "output_type": "execute_result"
    }
   ],
   "source": [
    "NUM_EPOCHS = 25\n",
    "model.fit(train_data, epochs= NUM_EPOCHS, validation_data=(validation_inputs, validation_targets), verbose=2)"
   ]
  },
  {
   "attachments": {},
   "cell_type": "markdown",
   "metadata": {},
   "source": [
    "**Test the model**"
   ]
  },
  {
   "cell_type": "code",
   "execution_count": null,
   "metadata": {},
   "outputs": [],
   "source": [
    "test_loss, test_accuracy = model.evaluate(test_data)\n"
   ]
  },
  {
   "cell_type": "code",
   "execution_count": 28,
   "metadata": {},
   "outputs": [
    {
     "name": "stdout",
     "output_type": "stream",
     "text": [
      "Test loss: 0.12. Test accuracy: 97.86%\n"
     ]
    }
   ],
   "source": [
    "print('Test loss: {0:.2f}. Test accuracy: {1:.2f}%'.format(test_loss, test_accuracy*100.))"
   ]
  },
  {
   "cell_type": "code",
   "execution_count": null,
   "metadata": {},
   "outputs": [],
   "source": []
  }
 ],
 "metadata": {
  "kernelspec": {
   "display_name": "Python 3",
   "language": "python",
   "name": "python3"
  },
  "language_info": {
   "codemirror_mode": {
    "name": "ipython",
    "version": 3
   },
   "file_extension": ".py",
   "mimetype": "text/x-python",
   "name": "python",
   "nbconvert_exporter": "python",
   "pygments_lexer": "ipython3",
   "version": "3.11.3"
  },
  "orig_nbformat": 4
 },
 "nbformat": 4,
 "nbformat_minor": 2
}
